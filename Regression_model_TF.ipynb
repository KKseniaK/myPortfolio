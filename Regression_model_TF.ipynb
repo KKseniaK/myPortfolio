{
  "nbformat": 4,
  "nbformat_minor": 0,
  "metadata": {
    "colab": {
      "provenance": [],
      "authorship_tag": "ABX9TyMJXBku+1G7Z8+0kAOOQRuX",
      "include_colab_link": true
    },
    "kernelspec": {
      "name": "python3",
      "display_name": "Python 3"
    },
    "language_info": {
      "name": "python"
    }
  },
  "cells": [
    {
      "cell_type": "markdown",
      "metadata": {
        "id": "view-in-github",
        "colab_type": "text"
      },
      "source": [
        "<a href=\"https://colab.research.google.com/github/KKseniaK/myPortfolio/blob/main/Regression_model_TF.ipynb\" target=\"_parent\"><img src=\"https://colab.research.google.com/assets/colab-badge.svg\" alt=\"Open In Colab\"/></a>"
      ]
    },
    {
      "cell_type": "markdown",
      "source": [
        "# A larger example"
      ],
      "metadata": {
        "id": "3-9hWsZNl3Tt"
      }
    },
    {
      "cell_type": "markdown",
      "source": [
        "More specifically we're going to try predict the cost of medical insurance for individuals based on a number of different parameters such as, `age`, `sex`, `bmi`, `children`, `smoking_status` and `residential_regio`n."
      ],
      "metadata": {
        "id": "5t3O-W1wU0JM"
      }
    },
    {
      "cell_type": "code",
      "source": [
        "# Import required libraries\n",
        "import tensorflow as tf\n",
        "import pandas as pd\n",
        "import matplotlib.pyplot as plt"
      ],
      "metadata": {
        "id": "JC0MvYOkUqxR"
      },
      "execution_count": null,
      "outputs": []
    },
    {
      "cell_type": "code",
      "source": [
        "# Read in the insurance dataset\n",
        "insurance = pd.read_csv(\"https://raw.githubusercontent.com/stedy/Machine-Learning-with-R-datasets/master/insurance.csv\")\n",
        "insurance.head()"
      ],
      "metadata": {
        "colab": {
          "base_uri": "https://localhost:8080/",
          "height": 206
        },
        "id": "u1FVmGOYVACL",
        "outputId": "4a654ebb-7617-4a3f-99a4-ad588711b2ab"
      },
      "execution_count": null,
      "outputs": [
        {
          "output_type": "execute_result",
          "data": {
            "text/plain": [
              "   age     sex     bmi  children smoker     region      charges\n",
              "0   19  female  27.900         0    yes  southwest  16884.92400\n",
              "1   18    male  33.770         1     no  southeast   1725.55230\n",
              "2   28    male  33.000         3     no  southeast   4449.46200\n",
              "3   33    male  22.705         0     no  northwest  21984.47061\n",
              "4   32    male  28.880         0     no  northwest   3866.85520"
            ],
            "text/html": [
              "\n",
              "  <div id=\"df-c6c8ef8d-b2e7-41d0-92b8-52ea0cb499e9\" class=\"colab-df-container\">\n",
              "    <div>\n",
              "<style scoped>\n",
              "    .dataframe tbody tr th:only-of-type {\n",
              "        vertical-align: middle;\n",
              "    }\n",
              "\n",
              "    .dataframe tbody tr th {\n",
              "        vertical-align: top;\n",
              "    }\n",
              "\n",
              "    .dataframe thead th {\n",
              "        text-align: right;\n",
              "    }\n",
              "</style>\n",
              "<table border=\"1\" class=\"dataframe\">\n",
              "  <thead>\n",
              "    <tr style=\"text-align: right;\">\n",
              "      <th></th>\n",
              "      <th>age</th>\n",
              "      <th>sex</th>\n",
              "      <th>bmi</th>\n",
              "      <th>children</th>\n",
              "      <th>smoker</th>\n",
              "      <th>region</th>\n",
              "      <th>charges</th>\n",
              "    </tr>\n",
              "  </thead>\n",
              "  <tbody>\n",
              "    <tr>\n",
              "      <th>0</th>\n",
              "      <td>19</td>\n",
              "      <td>female</td>\n",
              "      <td>27.900</td>\n",
              "      <td>0</td>\n",
              "      <td>yes</td>\n",
              "      <td>southwest</td>\n",
              "      <td>16884.92400</td>\n",
              "    </tr>\n",
              "    <tr>\n",
              "      <th>1</th>\n",
              "      <td>18</td>\n",
              "      <td>male</td>\n",
              "      <td>33.770</td>\n",
              "      <td>1</td>\n",
              "      <td>no</td>\n",
              "      <td>southeast</td>\n",
              "      <td>1725.55230</td>\n",
              "    </tr>\n",
              "    <tr>\n",
              "      <th>2</th>\n",
              "      <td>28</td>\n",
              "      <td>male</td>\n",
              "      <td>33.000</td>\n",
              "      <td>3</td>\n",
              "      <td>no</td>\n",
              "      <td>southeast</td>\n",
              "      <td>4449.46200</td>\n",
              "    </tr>\n",
              "    <tr>\n",
              "      <th>3</th>\n",
              "      <td>33</td>\n",
              "      <td>male</td>\n",
              "      <td>22.705</td>\n",
              "      <td>0</td>\n",
              "      <td>no</td>\n",
              "      <td>northwest</td>\n",
              "      <td>21984.47061</td>\n",
              "    </tr>\n",
              "    <tr>\n",
              "      <th>4</th>\n",
              "      <td>32</td>\n",
              "      <td>male</td>\n",
              "      <td>28.880</td>\n",
              "      <td>0</td>\n",
              "      <td>no</td>\n",
              "      <td>northwest</td>\n",
              "      <td>3866.85520</td>\n",
              "    </tr>\n",
              "  </tbody>\n",
              "</table>\n",
              "</div>\n",
              "    <div class=\"colab-df-buttons\">\n",
              "\n",
              "  <div class=\"colab-df-container\">\n",
              "    <button class=\"colab-df-convert\" onclick=\"convertToInteractive('df-c6c8ef8d-b2e7-41d0-92b8-52ea0cb499e9')\"\n",
              "            title=\"Convert this dataframe to an interactive table.\"\n",
              "            style=\"display:none;\">\n",
              "\n",
              "  <svg xmlns=\"http://www.w3.org/2000/svg\" height=\"24px\" viewBox=\"0 -960 960 960\">\n",
              "    <path d=\"M120-120v-720h720v720H120Zm60-500h600v-160H180v160Zm220 220h160v-160H400v160Zm0 220h160v-160H400v160ZM180-400h160v-160H180v160Zm440 0h160v-160H620v160ZM180-180h160v-160H180v160Zm440 0h160v-160H620v160Z\"/>\n",
              "  </svg>\n",
              "    </button>\n",
              "\n",
              "  <style>\n",
              "    .colab-df-container {\n",
              "      display:flex;\n",
              "      gap: 12px;\n",
              "    }\n",
              "\n",
              "    .colab-df-convert {\n",
              "      background-color: #E8F0FE;\n",
              "      border: none;\n",
              "      border-radius: 50%;\n",
              "      cursor: pointer;\n",
              "      display: none;\n",
              "      fill: #1967D2;\n",
              "      height: 32px;\n",
              "      padding: 0 0 0 0;\n",
              "      width: 32px;\n",
              "    }\n",
              "\n",
              "    .colab-df-convert:hover {\n",
              "      background-color: #E2EBFA;\n",
              "      box-shadow: 0px 1px 2px rgba(60, 64, 67, 0.3), 0px 1px 3px 1px rgba(60, 64, 67, 0.15);\n",
              "      fill: #174EA6;\n",
              "    }\n",
              "\n",
              "    .colab-df-buttons div {\n",
              "      margin-bottom: 4px;\n",
              "    }\n",
              "\n",
              "    [theme=dark] .colab-df-convert {\n",
              "      background-color: #3B4455;\n",
              "      fill: #D2E3FC;\n",
              "    }\n",
              "\n",
              "    [theme=dark] .colab-df-convert:hover {\n",
              "      background-color: #434B5C;\n",
              "      box-shadow: 0px 1px 3px 1px rgba(0, 0, 0, 0.15);\n",
              "      filter: drop-shadow(0px 1px 2px rgba(0, 0, 0, 0.3));\n",
              "      fill: #FFFFFF;\n",
              "    }\n",
              "  </style>\n",
              "\n",
              "    <script>\n",
              "      const buttonEl =\n",
              "        document.querySelector('#df-c6c8ef8d-b2e7-41d0-92b8-52ea0cb499e9 button.colab-df-convert');\n",
              "      buttonEl.style.display =\n",
              "        google.colab.kernel.accessAllowed ? 'block' : 'none';\n",
              "\n",
              "      async function convertToInteractive(key) {\n",
              "        const element = document.querySelector('#df-c6c8ef8d-b2e7-41d0-92b8-52ea0cb499e9');\n",
              "        const dataTable =\n",
              "          await google.colab.kernel.invokeFunction('convertToInteractive',\n",
              "                                                    [key], {});\n",
              "        if (!dataTable) return;\n",
              "\n",
              "        const docLinkHtml = 'Like what you see? Visit the ' +\n",
              "          '<a target=\"_blank\" href=https://colab.research.google.com/notebooks/data_table.ipynb>data table notebook</a>'\n",
              "          + ' to learn more about interactive tables.';\n",
              "        element.innerHTML = '';\n",
              "        dataTable['output_type'] = 'display_data';\n",
              "        await google.colab.output.renderOutput(dataTable, element);\n",
              "        const docLink = document.createElement('div');\n",
              "        docLink.innerHTML = docLinkHtml;\n",
              "        element.appendChild(docLink);\n",
              "      }\n",
              "    </script>\n",
              "  </div>\n",
              "\n",
              "\n",
              "<div id=\"df-06f83785-4cf0-4332-9dce-b213abbe1afd\">\n",
              "  <button class=\"colab-df-quickchart\" onclick=\"quickchart('df-06f83785-4cf0-4332-9dce-b213abbe1afd')\"\n",
              "            title=\"Suggest charts.\"\n",
              "            style=\"display:none;\">\n",
              "\n",
              "<svg xmlns=\"http://www.w3.org/2000/svg\" height=\"24px\"viewBox=\"0 0 24 24\"\n",
              "     width=\"24px\">\n",
              "    <g>\n",
              "        <path d=\"M19 3H5c-1.1 0-2 .9-2 2v14c0 1.1.9 2 2 2h14c1.1 0 2-.9 2-2V5c0-1.1-.9-2-2-2zM9 17H7v-7h2v7zm4 0h-2V7h2v10zm4 0h-2v-4h2v4z\"/>\n",
              "    </g>\n",
              "</svg>\n",
              "  </button>\n",
              "\n",
              "<style>\n",
              "  .colab-df-quickchart {\n",
              "      --bg-color: #E8F0FE;\n",
              "      --fill-color: #1967D2;\n",
              "      --hover-bg-color: #E2EBFA;\n",
              "      --hover-fill-color: #174EA6;\n",
              "      --disabled-fill-color: #AAA;\n",
              "      --disabled-bg-color: #DDD;\n",
              "  }\n",
              "\n",
              "  [theme=dark] .colab-df-quickchart {\n",
              "      --bg-color: #3B4455;\n",
              "      --fill-color: #D2E3FC;\n",
              "      --hover-bg-color: #434B5C;\n",
              "      --hover-fill-color: #FFFFFF;\n",
              "      --disabled-bg-color: #3B4455;\n",
              "      --disabled-fill-color: #666;\n",
              "  }\n",
              "\n",
              "  .colab-df-quickchart {\n",
              "    background-color: var(--bg-color);\n",
              "    border: none;\n",
              "    border-radius: 50%;\n",
              "    cursor: pointer;\n",
              "    display: none;\n",
              "    fill: var(--fill-color);\n",
              "    height: 32px;\n",
              "    padding: 0;\n",
              "    width: 32px;\n",
              "  }\n",
              "\n",
              "  .colab-df-quickchart:hover {\n",
              "    background-color: var(--hover-bg-color);\n",
              "    box-shadow: 0 1px 2px rgba(60, 64, 67, 0.3), 0 1px 3px 1px rgba(60, 64, 67, 0.15);\n",
              "    fill: var(--button-hover-fill-color);\n",
              "  }\n",
              "\n",
              "  .colab-df-quickchart-complete:disabled,\n",
              "  .colab-df-quickchart-complete:disabled:hover {\n",
              "    background-color: var(--disabled-bg-color);\n",
              "    fill: var(--disabled-fill-color);\n",
              "    box-shadow: none;\n",
              "  }\n",
              "\n",
              "  .colab-df-spinner {\n",
              "    border: 2px solid var(--fill-color);\n",
              "    border-color: transparent;\n",
              "    border-bottom-color: var(--fill-color);\n",
              "    animation:\n",
              "      spin 1s steps(1) infinite;\n",
              "  }\n",
              "\n",
              "  @keyframes spin {\n",
              "    0% {\n",
              "      border-color: transparent;\n",
              "      border-bottom-color: var(--fill-color);\n",
              "      border-left-color: var(--fill-color);\n",
              "    }\n",
              "    20% {\n",
              "      border-color: transparent;\n",
              "      border-left-color: var(--fill-color);\n",
              "      border-top-color: var(--fill-color);\n",
              "    }\n",
              "    30% {\n",
              "      border-color: transparent;\n",
              "      border-left-color: var(--fill-color);\n",
              "      border-top-color: var(--fill-color);\n",
              "      border-right-color: var(--fill-color);\n",
              "    }\n",
              "    40% {\n",
              "      border-color: transparent;\n",
              "      border-right-color: var(--fill-color);\n",
              "      border-top-color: var(--fill-color);\n",
              "    }\n",
              "    60% {\n",
              "      border-color: transparent;\n",
              "      border-right-color: var(--fill-color);\n",
              "    }\n",
              "    80% {\n",
              "      border-color: transparent;\n",
              "      border-right-color: var(--fill-color);\n",
              "      border-bottom-color: var(--fill-color);\n",
              "    }\n",
              "    90% {\n",
              "      border-color: transparent;\n",
              "      border-bottom-color: var(--fill-color);\n",
              "    }\n",
              "  }\n",
              "</style>\n",
              "\n",
              "  <script>\n",
              "    async function quickchart(key) {\n",
              "      const quickchartButtonEl =\n",
              "        document.querySelector('#' + key + ' button');\n",
              "      quickchartButtonEl.disabled = true;  // To prevent multiple clicks.\n",
              "      quickchartButtonEl.classList.add('colab-df-spinner');\n",
              "      try {\n",
              "        const charts = await google.colab.kernel.invokeFunction(\n",
              "            'suggestCharts', [key], {});\n",
              "      } catch (error) {\n",
              "        console.error('Error during call to suggestCharts:', error);\n",
              "      }\n",
              "      quickchartButtonEl.classList.remove('colab-df-spinner');\n",
              "      quickchartButtonEl.classList.add('colab-df-quickchart-complete');\n",
              "    }\n",
              "    (() => {\n",
              "      let quickchartButtonEl =\n",
              "        document.querySelector('#df-06f83785-4cf0-4332-9dce-b213abbe1afd button');\n",
              "      quickchartButtonEl.style.display =\n",
              "        google.colab.kernel.accessAllowed ? 'block' : 'none';\n",
              "    })();\n",
              "  </script>\n",
              "</div>\n",
              "    </div>\n",
              "  </div>\n"
            ]
          },
          "metadata": {},
          "execution_count": 2
        }
      ]
    },
    {
      "cell_type": "code",
      "execution_count": null,
      "metadata": {
        "colab": {
          "base_uri": "https://localhost:8080/"
        },
        "id": "Rmdy_1ZPlxBx",
        "outputId": "ee373b86-c574-45e9-e2d2-688c1b063ed7"
      },
      "outputs": [
        {
          "output_type": "stream",
          "name": "stdout",
          "text": [
            "<class 'pandas.core.frame.DataFrame'>\n",
            "RangeIndex: 1338 entries, 0 to 1337\n",
            "Data columns (total 7 columns):\n",
            " #   Column    Non-Null Count  Dtype  \n",
            "---  ------    --------------  -----  \n",
            " 0   age       1338 non-null   int64  \n",
            " 1   sex       1338 non-null   object \n",
            " 2   bmi       1338 non-null   float64\n",
            " 3   children  1338 non-null   int64  \n",
            " 4   smoker    1338 non-null   object \n",
            " 5   region    1338 non-null   object \n",
            " 6   charges   1338 non-null   float64\n",
            "dtypes: float64(2), int64(2), object(3)\n",
            "memory usage: 73.3+ KB\n"
          ]
        },
        {
          "output_type": "execute_result",
          "data": {
            "text/plain": [
              "((1338, 7), None)"
            ]
          },
          "metadata": {},
          "execution_count": 3
        }
      ],
      "source": [
        "insurance.shape, insurance.info()"
      ]
    },
    {
      "cell_type": "code",
      "source": [
        "insurance_one_hot = pd.get_dummies(insurance)\n",
        "insurance_one_hot.head()"
      ],
      "metadata": {
        "colab": {
          "base_uri": "https://localhost:8080/",
          "height": 226
        },
        "id": "g6bR49nYWzY_",
        "outputId": "905edc97-2508-439a-dcc3-a2df2909bf81"
      },
      "execution_count": null,
      "outputs": [
        {
          "output_type": "execute_result",
          "data": {
            "text/plain": [
              "   age     bmi  children      charges  sex_female  sex_male  smoker_no  \\\n",
              "0   19  27.900         0  16884.92400           1         0          0   \n",
              "1   18  33.770         1   1725.55230           0         1          1   \n",
              "2   28  33.000         3   4449.46200           0         1          1   \n",
              "3   33  22.705         0  21984.47061           0         1          1   \n",
              "4   32  28.880         0   3866.85520           0         1          1   \n",
              "\n",
              "   smoker_yes  region_northeast  region_northwest  region_southeast  \\\n",
              "0           1                 0                 0                 0   \n",
              "1           0                 0                 0                 1   \n",
              "2           0                 0                 0                 1   \n",
              "3           0                 0                 1                 0   \n",
              "4           0                 0                 1                 0   \n",
              "\n",
              "   region_southwest  \n",
              "0                 1  \n",
              "1                 0  \n",
              "2                 0  \n",
              "3                 0  \n",
              "4                 0  "
            ],
            "text/html": [
              "\n",
              "  <div id=\"df-213e50a3-581a-4d46-891e-b22ca6ede1f4\" class=\"colab-df-container\">\n",
              "    <div>\n",
              "<style scoped>\n",
              "    .dataframe tbody tr th:only-of-type {\n",
              "        vertical-align: middle;\n",
              "    }\n",
              "\n",
              "    .dataframe tbody tr th {\n",
              "        vertical-align: top;\n",
              "    }\n",
              "\n",
              "    .dataframe thead th {\n",
              "        text-align: right;\n",
              "    }\n",
              "</style>\n",
              "<table border=\"1\" class=\"dataframe\">\n",
              "  <thead>\n",
              "    <tr style=\"text-align: right;\">\n",
              "      <th></th>\n",
              "      <th>age</th>\n",
              "      <th>bmi</th>\n",
              "      <th>children</th>\n",
              "      <th>charges</th>\n",
              "      <th>sex_female</th>\n",
              "      <th>sex_male</th>\n",
              "      <th>smoker_no</th>\n",
              "      <th>smoker_yes</th>\n",
              "      <th>region_northeast</th>\n",
              "      <th>region_northwest</th>\n",
              "      <th>region_southeast</th>\n",
              "      <th>region_southwest</th>\n",
              "    </tr>\n",
              "  </thead>\n",
              "  <tbody>\n",
              "    <tr>\n",
              "      <th>0</th>\n",
              "      <td>19</td>\n",
              "      <td>27.900</td>\n",
              "      <td>0</td>\n",
              "      <td>16884.92400</td>\n",
              "      <td>1</td>\n",
              "      <td>0</td>\n",
              "      <td>0</td>\n",
              "      <td>1</td>\n",
              "      <td>0</td>\n",
              "      <td>0</td>\n",
              "      <td>0</td>\n",
              "      <td>1</td>\n",
              "    </tr>\n",
              "    <tr>\n",
              "      <th>1</th>\n",
              "      <td>18</td>\n",
              "      <td>33.770</td>\n",
              "      <td>1</td>\n",
              "      <td>1725.55230</td>\n",
              "      <td>0</td>\n",
              "      <td>1</td>\n",
              "      <td>1</td>\n",
              "      <td>0</td>\n",
              "      <td>0</td>\n",
              "      <td>0</td>\n",
              "      <td>1</td>\n",
              "      <td>0</td>\n",
              "    </tr>\n",
              "    <tr>\n",
              "      <th>2</th>\n",
              "      <td>28</td>\n",
              "      <td>33.000</td>\n",
              "      <td>3</td>\n",
              "      <td>4449.46200</td>\n",
              "      <td>0</td>\n",
              "      <td>1</td>\n",
              "      <td>1</td>\n",
              "      <td>0</td>\n",
              "      <td>0</td>\n",
              "      <td>0</td>\n",
              "      <td>1</td>\n",
              "      <td>0</td>\n",
              "    </tr>\n",
              "    <tr>\n",
              "      <th>3</th>\n",
              "      <td>33</td>\n",
              "      <td>22.705</td>\n",
              "      <td>0</td>\n",
              "      <td>21984.47061</td>\n",
              "      <td>0</td>\n",
              "      <td>1</td>\n",
              "      <td>1</td>\n",
              "      <td>0</td>\n",
              "      <td>0</td>\n",
              "      <td>1</td>\n",
              "      <td>0</td>\n",
              "      <td>0</td>\n",
              "    </tr>\n",
              "    <tr>\n",
              "      <th>4</th>\n",
              "      <td>32</td>\n",
              "      <td>28.880</td>\n",
              "      <td>0</td>\n",
              "      <td>3866.85520</td>\n",
              "      <td>0</td>\n",
              "      <td>1</td>\n",
              "      <td>1</td>\n",
              "      <td>0</td>\n",
              "      <td>0</td>\n",
              "      <td>1</td>\n",
              "      <td>0</td>\n",
              "      <td>0</td>\n",
              "    </tr>\n",
              "  </tbody>\n",
              "</table>\n",
              "</div>\n",
              "    <div class=\"colab-df-buttons\">\n",
              "\n",
              "  <div class=\"colab-df-container\">\n",
              "    <button class=\"colab-df-convert\" onclick=\"convertToInteractive('df-213e50a3-581a-4d46-891e-b22ca6ede1f4')\"\n",
              "            title=\"Convert this dataframe to an interactive table.\"\n",
              "            style=\"display:none;\">\n",
              "\n",
              "  <svg xmlns=\"http://www.w3.org/2000/svg\" height=\"24px\" viewBox=\"0 -960 960 960\">\n",
              "    <path d=\"M120-120v-720h720v720H120Zm60-500h600v-160H180v160Zm220 220h160v-160H400v160Zm0 220h160v-160H400v160ZM180-400h160v-160H180v160Zm440 0h160v-160H620v160ZM180-180h160v-160H180v160Zm440 0h160v-160H620v160Z\"/>\n",
              "  </svg>\n",
              "    </button>\n",
              "\n",
              "  <style>\n",
              "    .colab-df-container {\n",
              "      display:flex;\n",
              "      gap: 12px;\n",
              "    }\n",
              "\n",
              "    .colab-df-convert {\n",
              "      background-color: #E8F0FE;\n",
              "      border: none;\n",
              "      border-radius: 50%;\n",
              "      cursor: pointer;\n",
              "      display: none;\n",
              "      fill: #1967D2;\n",
              "      height: 32px;\n",
              "      padding: 0 0 0 0;\n",
              "      width: 32px;\n",
              "    }\n",
              "\n",
              "    .colab-df-convert:hover {\n",
              "      background-color: #E2EBFA;\n",
              "      box-shadow: 0px 1px 2px rgba(60, 64, 67, 0.3), 0px 1px 3px 1px rgba(60, 64, 67, 0.15);\n",
              "      fill: #174EA6;\n",
              "    }\n",
              "\n",
              "    .colab-df-buttons div {\n",
              "      margin-bottom: 4px;\n",
              "    }\n",
              "\n",
              "    [theme=dark] .colab-df-convert {\n",
              "      background-color: #3B4455;\n",
              "      fill: #D2E3FC;\n",
              "    }\n",
              "\n",
              "    [theme=dark] .colab-df-convert:hover {\n",
              "      background-color: #434B5C;\n",
              "      box-shadow: 0px 1px 3px 1px rgba(0, 0, 0, 0.15);\n",
              "      filter: drop-shadow(0px 1px 2px rgba(0, 0, 0, 0.3));\n",
              "      fill: #FFFFFF;\n",
              "    }\n",
              "  </style>\n",
              "\n",
              "    <script>\n",
              "      const buttonEl =\n",
              "        document.querySelector('#df-213e50a3-581a-4d46-891e-b22ca6ede1f4 button.colab-df-convert');\n",
              "      buttonEl.style.display =\n",
              "        google.colab.kernel.accessAllowed ? 'block' : 'none';\n",
              "\n",
              "      async function convertToInteractive(key) {\n",
              "        const element = document.querySelector('#df-213e50a3-581a-4d46-891e-b22ca6ede1f4');\n",
              "        const dataTable =\n",
              "          await google.colab.kernel.invokeFunction('convertToInteractive',\n",
              "                                                    [key], {});\n",
              "        if (!dataTable) return;\n",
              "\n",
              "        const docLinkHtml = 'Like what you see? Visit the ' +\n",
              "          '<a target=\"_blank\" href=https://colab.research.google.com/notebooks/data_table.ipynb>data table notebook</a>'\n",
              "          + ' to learn more about interactive tables.';\n",
              "        element.innerHTML = '';\n",
              "        dataTable['output_type'] = 'display_data';\n",
              "        await google.colab.output.renderOutput(dataTable, element);\n",
              "        const docLink = document.createElement('div');\n",
              "        docLink.innerHTML = docLinkHtml;\n",
              "        element.appendChild(docLink);\n",
              "      }\n",
              "    </script>\n",
              "  </div>\n",
              "\n",
              "\n",
              "<div id=\"df-2afdb195-2b05-4c37-a0e6-d32cfc6a07de\">\n",
              "  <button class=\"colab-df-quickchart\" onclick=\"quickchart('df-2afdb195-2b05-4c37-a0e6-d32cfc6a07de')\"\n",
              "            title=\"Suggest charts.\"\n",
              "            style=\"display:none;\">\n",
              "\n",
              "<svg xmlns=\"http://www.w3.org/2000/svg\" height=\"24px\"viewBox=\"0 0 24 24\"\n",
              "     width=\"24px\">\n",
              "    <g>\n",
              "        <path d=\"M19 3H5c-1.1 0-2 .9-2 2v14c0 1.1.9 2 2 2h14c1.1 0 2-.9 2-2V5c0-1.1-.9-2-2-2zM9 17H7v-7h2v7zm4 0h-2V7h2v10zm4 0h-2v-4h2v4z\"/>\n",
              "    </g>\n",
              "</svg>\n",
              "  </button>\n",
              "\n",
              "<style>\n",
              "  .colab-df-quickchart {\n",
              "      --bg-color: #E8F0FE;\n",
              "      --fill-color: #1967D2;\n",
              "      --hover-bg-color: #E2EBFA;\n",
              "      --hover-fill-color: #174EA6;\n",
              "      --disabled-fill-color: #AAA;\n",
              "      --disabled-bg-color: #DDD;\n",
              "  }\n",
              "\n",
              "  [theme=dark] .colab-df-quickchart {\n",
              "      --bg-color: #3B4455;\n",
              "      --fill-color: #D2E3FC;\n",
              "      --hover-bg-color: #434B5C;\n",
              "      --hover-fill-color: #FFFFFF;\n",
              "      --disabled-bg-color: #3B4455;\n",
              "      --disabled-fill-color: #666;\n",
              "  }\n",
              "\n",
              "  .colab-df-quickchart {\n",
              "    background-color: var(--bg-color);\n",
              "    border: none;\n",
              "    border-radius: 50%;\n",
              "    cursor: pointer;\n",
              "    display: none;\n",
              "    fill: var(--fill-color);\n",
              "    height: 32px;\n",
              "    padding: 0;\n",
              "    width: 32px;\n",
              "  }\n",
              "\n",
              "  .colab-df-quickchart:hover {\n",
              "    background-color: var(--hover-bg-color);\n",
              "    box-shadow: 0 1px 2px rgba(60, 64, 67, 0.3), 0 1px 3px 1px rgba(60, 64, 67, 0.15);\n",
              "    fill: var(--button-hover-fill-color);\n",
              "  }\n",
              "\n",
              "  .colab-df-quickchart-complete:disabled,\n",
              "  .colab-df-quickchart-complete:disabled:hover {\n",
              "    background-color: var(--disabled-bg-color);\n",
              "    fill: var(--disabled-fill-color);\n",
              "    box-shadow: none;\n",
              "  }\n",
              "\n",
              "  .colab-df-spinner {\n",
              "    border: 2px solid var(--fill-color);\n",
              "    border-color: transparent;\n",
              "    border-bottom-color: var(--fill-color);\n",
              "    animation:\n",
              "      spin 1s steps(1) infinite;\n",
              "  }\n",
              "\n",
              "  @keyframes spin {\n",
              "    0% {\n",
              "      border-color: transparent;\n",
              "      border-bottom-color: var(--fill-color);\n",
              "      border-left-color: var(--fill-color);\n",
              "    }\n",
              "    20% {\n",
              "      border-color: transparent;\n",
              "      border-left-color: var(--fill-color);\n",
              "      border-top-color: var(--fill-color);\n",
              "    }\n",
              "    30% {\n",
              "      border-color: transparent;\n",
              "      border-left-color: var(--fill-color);\n",
              "      border-top-color: var(--fill-color);\n",
              "      border-right-color: var(--fill-color);\n",
              "    }\n",
              "    40% {\n",
              "      border-color: transparent;\n",
              "      border-right-color: var(--fill-color);\n",
              "      border-top-color: var(--fill-color);\n",
              "    }\n",
              "    60% {\n",
              "      border-color: transparent;\n",
              "      border-right-color: var(--fill-color);\n",
              "    }\n",
              "    80% {\n",
              "      border-color: transparent;\n",
              "      border-right-color: var(--fill-color);\n",
              "      border-bottom-color: var(--fill-color);\n",
              "    }\n",
              "    90% {\n",
              "      border-color: transparent;\n",
              "      border-bottom-color: var(--fill-color);\n",
              "    }\n",
              "  }\n",
              "</style>\n",
              "\n",
              "  <script>\n",
              "    async function quickchart(key) {\n",
              "      const quickchartButtonEl =\n",
              "        document.querySelector('#' + key + ' button');\n",
              "      quickchartButtonEl.disabled = true;  // To prevent multiple clicks.\n",
              "      quickchartButtonEl.classList.add('colab-df-spinner');\n",
              "      try {\n",
              "        const charts = await google.colab.kernel.invokeFunction(\n",
              "            'suggestCharts', [key], {});\n",
              "      } catch (error) {\n",
              "        console.error('Error during call to suggestCharts:', error);\n",
              "      }\n",
              "      quickchartButtonEl.classList.remove('colab-df-spinner');\n",
              "      quickchartButtonEl.classList.add('colab-df-quickchart-complete');\n",
              "    }\n",
              "    (() => {\n",
              "      let quickchartButtonEl =\n",
              "        document.querySelector('#df-2afdb195-2b05-4c37-a0e6-d32cfc6a07de button');\n",
              "      quickchartButtonEl.style.display =\n",
              "        google.colab.kernel.accessAllowed ? 'block' : 'none';\n",
              "    })();\n",
              "  </script>\n",
              "</div>\n",
              "    </div>\n",
              "  </div>\n"
            ]
          },
          "metadata": {},
          "execution_count": 4
        }
      ]
    },
    {
      "cell_type": "markdown",
      "source": [
        "Now we'll split data into `features (X)` and `labels (y)`."
      ],
      "metadata": {
        "id": "B91iKYkMXiB5"
      }
    },
    {
      "cell_type": "code",
      "source": [
        "X = insurance_one_hot.drop('charges', axis=1)\n",
        "y = insurance_one_hot['charges']"
      ],
      "metadata": {
        "id": "-oknrEP0Ycc6"
      },
      "execution_count": null,
      "outputs": []
    },
    {
      "cell_type": "markdown",
      "source": [
        "And create training and test sets.\n",
        "\n",
        "`train_test_split` function available from **Scikit-Learn**."
      ],
      "metadata": {
        "id": "VvR3HbaeZMf9"
      }
    },
    {
      "cell_type": "code",
      "source": [
        "# Create training and test sets\n",
        "from sklearn.model_selection import train_test_split\n",
        "X_train, X_test, y_train, y_test = train_test_split(X, y, test_size=0.2, random_state=42) # set random state for reproducible splits"
      ],
      "metadata": {
        "id": "Lxg2XxkCZZGU"
      },
      "execution_count": null,
      "outputs": []
    },
    {
      "cell_type": "markdown",
      "source": [
        "Now we can build and fit **a model** (we'll make it the same as `model_2`)."
      ],
      "metadata": {
        "id": "DNecGDoWaOyk"
      }
    },
    {
      "cell_type": "code",
      "source": [
        "# Set random seed\n",
        "tf.random.set_seed(42)\n",
        "\n",
        "# Create a new model (same as model_2)\n",
        "insurance_model = tf.keras.Sequential([\n",
        "  tf.keras.layers.Dense(1),\n",
        "  tf.keras.layers.Dense(1)\n",
        "])\n",
        "\n",
        "# Compile the model\n",
        "insurance_model.compile(loss=tf.keras.losses.mae,\n",
        "                        optimizer=tf.keras.optimizers.SGD(),\n",
        "                        metrics=['mae'])\n",
        "\n",
        "# Fit the model\n",
        "insurance_model.fit(X_train, y_train, epochs=100)"
      ],
      "metadata": {
        "colab": {
          "base_uri": "https://localhost:8080/"
        },
        "id": "h3Acw15vawrN",
        "outputId": "0308a497-e837-42ea-cd73-051f870db575"
      },
      "execution_count": null,
      "outputs": [
        {
          "output_type": "stream",
          "name": "stdout",
          "text": [
            "Epoch 1/100\n",
            "34/34 [==============================] - 2s 5ms/step - loss: 8697.6006 - mae: 8697.6006\n",
            "Epoch 2/100\n",
            "34/34 [==============================] - 0s 3ms/step - loss: 7888.5664 - mae: 7888.5664\n",
            "Epoch 3/100\n",
            "34/34 [==============================] - 0s 4ms/step - loss: 7580.0557 - mae: 7580.0557\n",
            "Epoch 4/100\n",
            "34/34 [==============================] - 0s 3ms/step - loss: 7686.1323 - mae: 7686.1323\n",
            "Epoch 5/100\n",
            "34/34 [==============================] - 0s 3ms/step - loss: 7688.0786 - mae: 7688.0786\n",
            "Epoch 6/100\n",
            "34/34 [==============================] - 0s 3ms/step - loss: 7603.1401 - mae: 7603.1401\n",
            "Epoch 7/100\n",
            "34/34 [==============================] - 0s 6ms/step - loss: 7598.8750 - mae: 7598.8750\n",
            "Epoch 8/100\n",
            "34/34 [==============================] - 0s 3ms/step - loss: 7792.9424 - mae: 7792.9424\n",
            "Epoch 9/100\n",
            "34/34 [==============================] - 0s 4ms/step - loss: 7559.1968 - mae: 7559.1968\n",
            "Epoch 10/100\n",
            "34/34 [==============================] - 0s 3ms/step - loss: 7656.0820 - mae: 7656.0820\n",
            "Epoch 11/100\n",
            "34/34 [==============================] - 0s 3ms/step - loss: 7474.0757 - mae: 7474.0757\n",
            "Epoch 12/100\n",
            "34/34 [==============================] - 0s 4ms/step - loss: 7545.3989 - mae: 7545.3989\n",
            "Epoch 13/100\n",
            "34/34 [==============================] - 0s 3ms/step - loss: 7660.6675 - mae: 7660.6675\n",
            "Epoch 14/100\n",
            "34/34 [==============================] - 0s 3ms/step - loss: 7830.9663 - mae: 7830.9663\n",
            "Epoch 15/100\n",
            "34/34 [==============================] - 0s 4ms/step - loss: 7412.2983 - mae: 7412.2983\n",
            "Epoch 16/100\n",
            "34/34 [==============================] - 0s 3ms/step - loss: 7761.8760 - mae: 7761.8760\n",
            "Epoch 17/100\n",
            "34/34 [==============================] - 0s 3ms/step - loss: 7652.9038 - mae: 7652.9038\n",
            "Epoch 18/100\n",
            "34/34 [==============================] - 0s 3ms/step - loss: 7745.0020 - mae: 7745.0020\n",
            "Epoch 19/100\n",
            "34/34 [==============================] - 0s 3ms/step - loss: 7707.8496 - mae: 7707.8496\n",
            "Epoch 20/100\n",
            "34/34 [==============================] - 0s 6ms/step - loss: 7900.7446 - mae: 7900.7446\n",
            "Epoch 21/100\n",
            "34/34 [==============================] - 0s 4ms/step - loss: 7529.5596 - mae: 7529.5596\n",
            "Epoch 22/100\n",
            "34/34 [==============================] - 0s 2ms/step - loss: 7727.7866 - mae: 7727.7866\n",
            "Epoch 23/100\n",
            "34/34 [==============================] - 0s 3ms/step - loss: 7651.2217 - mae: 7651.2217\n",
            "Epoch 24/100\n",
            "34/34 [==============================] - 0s 4ms/step - loss: 7567.2168 - mae: 7567.2168\n",
            "Epoch 25/100\n",
            "34/34 [==============================] - 0s 4ms/step - loss: 7618.2104 - mae: 7618.2104\n",
            "Epoch 26/100\n",
            "34/34 [==============================] - 0s 2ms/step - loss: 7685.1201 - mae: 7685.1201\n",
            "Epoch 27/100\n",
            "34/34 [==============================] - 0s 3ms/step - loss: 7734.2861 - mae: 7734.2861\n",
            "Epoch 28/100\n",
            "34/34 [==============================] - 0s 3ms/step - loss: 7594.8955 - mae: 7594.8955\n",
            "Epoch 29/100\n",
            "34/34 [==============================] - 0s 2ms/step - loss: 7689.4648 - mae: 7689.4648\n",
            "Epoch 30/100\n",
            "34/34 [==============================] - 0s 4ms/step - loss: 7518.8291 - mae: 7518.8291\n",
            "Epoch 31/100\n",
            "34/34 [==============================] - 0s 5ms/step - loss: 7721.2974 - mae: 7721.2974\n",
            "Epoch 32/100\n",
            "34/34 [==============================] - 0s 5ms/step - loss: 7512.0513 - mae: 7512.0513\n",
            "Epoch 33/100\n",
            "34/34 [==============================] - 0s 3ms/step - loss: 7424.4663 - mae: 7424.4663\n",
            "Epoch 34/100\n",
            "34/34 [==============================] - 0s 4ms/step - loss: 7403.9448 - mae: 7403.9448\n",
            "Epoch 35/100\n",
            "34/34 [==============================] - 0s 4ms/step - loss: 7370.9697 - mae: 7370.9697\n",
            "Epoch 36/100\n",
            "34/34 [==============================] - 0s 3ms/step - loss: 7605.8706 - mae: 7605.8706\n",
            "Epoch 37/100\n",
            "34/34 [==============================] - 0s 4ms/step - loss: 7698.8857 - mae: 7698.8857\n",
            "Epoch 38/100\n",
            "34/34 [==============================] - 0s 4ms/step - loss: 7556.9478 - mae: 7556.9478\n",
            "Epoch 39/100\n",
            "34/34 [==============================] - 0s 9ms/step - loss: 7536.6543 - mae: 7536.6543\n",
            "Epoch 40/100\n",
            "34/34 [==============================] - 0s 4ms/step - loss: 7341.2329 - mae: 7341.2329\n",
            "Epoch 41/100\n",
            "34/34 [==============================] - 0s 4ms/step - loss: 7640.2554 - mae: 7640.2554\n",
            "Epoch 42/100\n",
            "34/34 [==============================] - 0s 3ms/step - loss: 7354.9067 - mae: 7354.9067\n",
            "Epoch 43/100\n",
            "34/34 [==============================] - 0s 3ms/step - loss: 7700.2222 - mae: 7700.2222\n",
            "Epoch 44/100\n",
            "34/34 [==============================] - 0s 4ms/step - loss: 7431.9160 - mae: 7431.9160\n",
            "Epoch 45/100\n",
            "34/34 [==============================] - 0s 5ms/step - loss: 7392.7798 - mae: 7392.7798\n",
            "Epoch 46/100\n",
            "34/34 [==============================] - 0s 4ms/step - loss: 7408.7930 - mae: 7408.7930\n",
            "Epoch 47/100\n",
            "34/34 [==============================] - 0s 4ms/step - loss: 7390.2554 - mae: 7390.2554\n",
            "Epoch 48/100\n",
            "34/34 [==============================] - 0s 7ms/step - loss: 7371.8892 - mae: 7371.8892\n",
            "Epoch 49/100\n",
            "34/34 [==============================] - 0s 4ms/step - loss: 7548.2539 - mae: 7548.2539\n",
            "Epoch 50/100\n",
            "34/34 [==============================] - 0s 3ms/step - loss: 7481.8022 - mae: 7481.8022\n",
            "Epoch 51/100\n",
            "34/34 [==============================] - 0s 2ms/step - loss: 7411.3228 - mae: 7411.3228\n",
            "Epoch 52/100\n",
            "34/34 [==============================] - 0s 3ms/step - loss: 7577.9946 - mae: 7577.9946\n",
            "Epoch 53/100\n",
            "34/34 [==============================] - 0s 5ms/step - loss: 7573.8018 - mae: 7573.8018\n",
            "Epoch 54/100\n",
            "34/34 [==============================] - 0s 4ms/step - loss: 7221.9292 - mae: 7221.9292\n",
            "Epoch 55/100\n",
            "34/34 [==============================] - 0s 8ms/step - loss: 7382.6064 - mae: 7382.6064\n",
            "Epoch 56/100\n",
            "34/34 [==============================] - 0s 8ms/step - loss: 7403.7998 - mae: 7403.7998\n",
            "Epoch 57/100\n",
            "34/34 [==============================] - 0s 10ms/step - loss: 7456.2158 - mae: 7456.2158\n",
            "Epoch 58/100\n",
            "34/34 [==============================] - 0s 8ms/step - loss: 7408.8022 - mae: 7408.8022\n",
            "Epoch 59/100\n",
            "34/34 [==============================] - 0s 8ms/step - loss: 7635.5684 - mae: 7635.5684\n",
            "Epoch 60/100\n",
            "34/34 [==============================] - 0s 9ms/step - loss: 7381.6353 - mae: 7381.6353\n",
            "Epoch 61/100\n",
            "34/34 [==============================] - 0s 7ms/step - loss: 7353.3691 - mae: 7353.3691\n",
            "Epoch 62/100\n",
            "34/34 [==============================] - 0s 7ms/step - loss: 7345.3989 - mae: 7345.3989\n",
            "Epoch 63/100\n",
            "34/34 [==============================] - 0s 6ms/step - loss: 7337.1006 - mae: 7337.1006\n",
            "Epoch 64/100\n",
            "34/34 [==============================] - 0s 6ms/step - loss: 7462.7100 - mae: 7462.7100\n",
            "Epoch 65/100\n",
            "34/34 [==============================] - 0s 4ms/step - loss: 7446.3872 - mae: 7446.3872\n",
            "Epoch 66/100\n",
            "34/34 [==============================] - 0s 4ms/step - loss: 7246.9956 - mae: 7246.9956\n",
            "Epoch 67/100\n",
            "34/34 [==============================] - 0s 8ms/step - loss: 7455.3838 - mae: 7455.3838\n",
            "Epoch 68/100\n",
            "34/34 [==============================] - 0s 5ms/step - loss: 7544.4868 - mae: 7544.4868\n",
            "Epoch 69/100\n",
            "34/34 [==============================] - 0s 3ms/step - loss: 7542.0503 - mae: 7542.0503\n",
            "Epoch 70/100\n",
            "34/34 [==============================] - 0s 3ms/step - loss: 7539.3862 - mae: 7539.3862\n",
            "Epoch 71/100\n",
            "34/34 [==============================] - 0s 3ms/step - loss: 7149.3018 - mae: 7149.3018\n",
            "Epoch 72/100\n",
            "34/34 [==============================] - 0s 3ms/step - loss: 7236.6963 - mae: 7236.6963\n",
            "Epoch 73/100\n",
            "34/34 [==============================] - 0s 2ms/step - loss: 7272.8267 - mae: 7272.8267\n",
            "Epoch 74/100\n",
            "34/34 [==============================] - 0s 4ms/step - loss: 7388.8345 - mae: 7388.8345\n",
            "Epoch 75/100\n",
            "34/34 [==============================] - 0s 3ms/step - loss: 7258.3984 - mae: 7258.3984\n",
            "Epoch 76/100\n",
            "34/34 [==============================] - 0s 2ms/step - loss: 7159.8643 - mae: 7159.8643\n",
            "Epoch 77/100\n",
            "34/34 [==============================] - 0s 4ms/step - loss: 7255.7349 - mae: 7255.7349\n",
            "Epoch 78/100\n",
            "34/34 [==============================] - 0s 3ms/step - loss: 7228.2202 - mae: 7228.2202\n",
            "Epoch 79/100\n",
            "34/34 [==============================] - 0s 3ms/step - loss: 7617.4497 - mae: 7617.4497\n",
            "Epoch 80/100\n",
            "34/34 [==============================] - 0s 4ms/step - loss: 7315.6260 - mae: 7315.6260\n",
            "Epoch 81/100\n",
            "34/34 [==============================] - 0s 3ms/step - loss: 7241.5957 - mae: 7241.5957\n",
            "Epoch 82/100\n",
            "34/34 [==============================] - 0s 4ms/step - loss: 7171.7212 - mae: 7171.7212\n",
            "Epoch 83/100\n",
            "34/34 [==============================] - 0s 3ms/step - loss: 7449.5088 - mae: 7449.5088\n",
            "Epoch 84/100\n",
            "34/34 [==============================] - 0s 3ms/step - loss: 7424.5488 - mae: 7424.5488\n",
            "Epoch 85/100\n",
            "34/34 [==============================] - 0s 3ms/step - loss: 7392.8237 - mae: 7392.8237\n",
            "Epoch 86/100\n",
            "34/34 [==============================] - 0s 5ms/step - loss: 7531.2954 - mae: 7531.2954\n",
            "Epoch 87/100\n",
            "34/34 [==============================] - 0s 3ms/step - loss: 7130.1694 - mae: 7130.1694\n",
            "Epoch 88/100\n",
            "34/34 [==============================] - 0s 4ms/step - loss: 7229.0669 - mae: 7229.0669\n",
            "Epoch 89/100\n",
            "34/34 [==============================] - 0s 4ms/step - loss: 7511.9258 - mae: 7511.9258\n",
            "Epoch 90/100\n",
            "34/34 [==============================] - 0s 4ms/step - loss: 7177.3584 - mae: 7177.3584\n",
            "Epoch 91/100\n",
            "34/34 [==============================] - 0s 4ms/step - loss: 7127.6396 - mae: 7127.6396\n",
            "Epoch 92/100\n",
            "34/34 [==============================] - 0s 4ms/step - loss: 7255.7354 - mae: 7255.7354\n",
            "Epoch 93/100\n",
            "34/34 [==============================] - 0s 3ms/step - loss: 7440.8750 - mae: 7440.8750\n",
            "Epoch 94/100\n",
            "34/34 [==============================] - 0s 3ms/step - loss: 7269.5767 - mae: 7269.5767\n",
            "Epoch 95/100\n",
            "34/34 [==============================] - 0s 4ms/step - loss: 7394.1699 - mae: 7394.1699\n",
            "Epoch 96/100\n",
            "34/34 [==============================] - 0s 3ms/step - loss: 7319.0698 - mae: 7319.0698\n",
            "Epoch 97/100\n",
            "34/34 [==============================] - 0s 3ms/step - loss: 7186.2681 - mae: 7186.2681\n",
            "Epoch 98/100\n",
            "34/34 [==============================] - 0s 3ms/step - loss: 7160.4980 - mae: 7160.4980\n",
            "Epoch 99/100\n",
            "34/34 [==============================] - 0s 4ms/step - loss: 7400.7900 - mae: 7400.7900\n",
            "Epoch 100/100\n",
            "34/34 [==============================] - 0s 3ms/step - loss: 7086.0557 - mae: 7086.0557\n"
          ]
        },
        {
          "output_type": "execute_result",
          "data": {
            "text/plain": [
              "<keras.src.callbacks.History at 0x792ff6903a60>"
            ]
          },
          "metadata": {},
          "execution_count": 7
        }
      ]
    },
    {
      "cell_type": "code",
      "source": [
        "# Check the results of the insurance model\n",
        "insurance_model.evaluate(X_test, y_test)"
      ],
      "metadata": {
        "colab": {
          "base_uri": "https://localhost:8080/"
        },
        "id": "xM4rNBFMbDuG",
        "outputId": "03ab5480-dc70-454b-cab5-8cf3a57da3fd"
      },
      "execution_count": null,
      "outputs": [
        {
          "output_type": "stream",
          "name": "stdout",
          "text": [
            "9/9 [==============================] - 0s 4ms/step - loss: 7494.0464 - mae: 7494.0464\n"
          ]
        },
        {
          "output_type": "execute_result",
          "data": {
            "text/plain": [
              "[7494.04638671875, 7494.04638671875]"
            ]
          },
          "metadata": {},
          "execution_count": 8
        }
      ]
    },
    {
      "cell_type": "markdown",
      "source": [
        "Our model didn't perform very well, let's try a bigger model.\n",
        "\n",
        "We'll try 3 things:\n",
        "\n",
        "* Increasing the number of layers (2 -> 3).\n",
        "* Increasing the number of units in each layer (except for the output layer).\n",
        "* Changing the optimizer (from SGD to Adam)."
      ],
      "metadata": {
        "id": "QWRccaLRbHcK"
      }
    },
    {
      "cell_type": "code",
      "source": [
        "# Set random seed\n",
        "tf.random.set_seed(42)\n",
        "\n",
        "# Add an extra layer and increase number of units\n",
        "insurance_model_2 = tf.keras.Sequential([\n",
        "  tf.keras.layers.Dense(100), # 100 units\n",
        "  tf.keras.layers.Dense(10), # 10 units\n",
        "  tf.keras.layers.Dense(1) # 1 unit (important for output layer)\n",
        "])\n",
        "\n",
        "# Compile the model\n",
        "insurance_model_2.compile(loss=tf.keras.losses.mae,\n",
        "                          optimizer=tf.keras.optimizers.Adam(), # Adam works but SGD doesn't\n",
        "                          metrics=['mae'])\n",
        "\n",
        "# Fit the model and save the history (we can plot this)\n",
        "history = insurance_model_2.fit(X_train, y_train, epochs=100, verbose=0)"
      ],
      "metadata": {
        "id": "jH3B6RG6bNKY"
      },
      "execution_count": null,
      "outputs": []
    },
    {
      "cell_type": "code",
      "source": [
        "# Check the results of the insurance model_2\n",
        "insurance_model_2.evaluate(X_test, y_test)"
      ],
      "metadata": {
        "colab": {
          "base_uri": "https://localhost:8080/"
        },
        "id": "MbHzag92bTyi",
        "outputId": "9f80dc7c-0000-4d36-8a6e-bf1e7d47d1db"
      },
      "execution_count": null,
      "outputs": [
        {
          "output_type": "stream",
          "name": "stdout",
          "text": [
            "9/9 [==============================] - 0s 2ms/step - loss: 4817.7534 - mae: 4817.7534\n"
          ]
        },
        {
          "output_type": "execute_result",
          "data": {
            "text/plain": [
              "[4817.75341796875, 4817.75341796875]"
            ]
          },
          "metadata": {},
          "execution_count": 10
        }
      ]
    },
    {
      "cell_type": "markdown",
      "source": [
        "Посмотрим на кривую потерь(график уменьшения ошибки в соотношении с пройденными эпохами)"
      ],
      "metadata": {
        "id": "BLj6RarYhWYC"
      }
    },
    {
      "cell_type": "code",
      "source": [
        "# Plot history (also known as a loss curve)\n",
        "pd.DataFrame(history.history).plot()\n",
        "plt.ylabel(\"loss\")\n",
        "plt.xlabel(\"epochs\");"
      ],
      "metadata": {
        "colab": {
          "base_uri": "https://localhost:8080/",
          "height": 449
        },
        "id": "dnGWFc9qhWx4",
        "outputId": "9171b2ca-c83d-45a8-dad9-fd942d34e632"
      },
      "execution_count": null,
      "outputs": [
        {
          "output_type": "display_data",
          "data": {
            "text/plain": [
              "<Figure size 640x480 with 1 Axes>"
            ],
            "image/png": "[encoded data removed]"
          },
          "metadata": {}
        }
      ]
    },
    {
      "cell_type": "markdown",
      "source": [
        "> 🤔 **Question:** How long should you train for?\n",
        "\n",
        "> It depends on what problem you're working on. Sometimes training won't take very long, other times it'll take longer than you expect. A common method is to set your model training for a very long time (e.g. 1000's of epochs) but set it up with an **EarlyStopping callback** so **it stops automatically when it stops improving**."
      ],
      "metadata": {
        "id": "eGc6NPGgiGLd"
      }
    },
    {
      "cell_type": "markdown",
      "source": [
        "Let's train the same model as above for a little longer. We can do this but calling fit on it again."
      ],
      "metadata": {
        "id": "S4h4tJSQihbA"
      }
    },
    {
      "cell_type": "code",
      "source": [
        "# Try training for a little longer (100 more epochs)\n",
        "history_2 = insurance_model_2.fit(X_train, y_train, epochs=100, verbose=0)"
      ],
      "metadata": {
        "id": "5jyQiW5linSG"
      },
      "execution_count": null,
      "outputs": []
    },
    {
      "cell_type": "code",
      "source": [
        "# Evaluate the model trained for 200 total epochs\n",
        "insurance_model_2_loss, insurance_model_2_mae = insurance_model_2.evaluate(X_test, y_test)\n",
        "insurance_model_2_loss, insurance_model_2_mae"
      ],
      "metadata": {
        "colab": {
          "base_uri": "https://localhost:8080/"
        },
        "id": "mwxUSplpiu-U",
        "outputId": "87ecf78a-77e4-4afd-cfe5-96a80e28511a"
      },
      "execution_count": null,
      "outputs": [
        {
          "output_type": "stream",
          "name": "stdout",
          "text": [
            "9/9 [==============================] - 0s 2ms/step - loss: 3493.5044 - mae: 3493.5044\n"
          ]
        },
        {
          "output_type": "execute_result",
          "data": {
            "text/plain": [
              "(3493.50439453125, 3493.50439453125)"
            ]
          },
          "metadata": {},
          "execution_count": 13
        }
      ]
    },
    {
      "cell_type": "markdown",
      "source": [
        "Training for an extra 100 epochs we see about a 10% decrease in error."
      ],
      "metadata": {
        "id": "EqOqNbCEjofx"
      }
    },
    {
      "cell_type": "code",
      "source": [
        "# Plot the model trained for 200 total epochs loss curves\n",
        "pd.DataFrame(history_2.history).plot()\n",
        "plt.ylabel(\"loss\")\n",
        "plt.xlabel(\"epochs\"); # note: epochs will only show 100 since we overrid the history variable"
      ],
      "metadata": {
        "colab": {
          "base_uri": "https://localhost:8080/",
          "height": 449
        },
        "id": "QpJ2DmH9jlxB",
        "outputId": "5f68449e-d37e-415c-9d85-6fbcbca6d82b"
      },
      "execution_count": null,
      "outputs": [
        {
          "output_type": "display_data",
          "data": {
            "text/plain": [
              "<Figure size 640x480 with 1 Axes>"
            ],
            "image/png": "[encoded data removed]"
          },
          "metadata": {}
        }
      ]
    },
    {
      "cell_type": "markdown",
      "source": [
        "# Предварительная обработка данных.\n",
        "# **Preprocessing data (normalization and standardization)**"
      ],
      "metadata": {
        "id": "T8krCV72jxAQ"
      }
    },
    {
      "cell_type": "markdown",
      "source": [
        "**Стандартизация** и **нормализация** — это два способа масштабирования данных.\n",
        "\n",
        "**Стандартизация** изменяет масштаб набора данных, чтобы иметь среднее значение 0 и стандартное отклонение 1.\n",
        "\n",
        "**Нормализация** масштабирует набор данных таким образом, чтобы каждое значение находилось в диапазоне от 0 до 1"
      ],
      "metadata": {
        "id": "fb8gSQSOkYd4"
      }
    },
    {
      "cell_type": "markdown",
      "source": [
        "preprocess your data for a neural network include:\n",
        "\n",
        "* Turning all of your data to numbers (a neural network can't handle strings).\n",
        "* Making sure your data is in the right shape (verifying input and output shapes).\n",
        "* **Preprocessing**:\n",
        " * Normalizing data (making sure all values are between 0 and 1).\n",
        " * Standardization (making sure all values have a mean of 0 and a variance of 1).\n",
        "\n",
        "\n",
        " Нормализация (**normalization**) и стандартизация (**standardization**) являются методами изменения диапазонов значений — шкалирования. Шкалирование особенно полезно в машинном обучении (Machine Learning), поскольку разные атрибуты могут измеряться в разных диапазонах, или значения одного атрибута варьируются слишком сильно. Например, один атрибут имеет диапазон от 0 до 1, а второй — от 1 до 1000. Для задачи регрессии второй атрибут оказывал бы большое влияние на обучение, хотя не факт, что он является более важным, чем первый. Нормализация и стандартизация отличаются своими подходами:\n",
        "\n",
        "* Нормализация подразумевает изменение диапазонов в данных без изменения формы распределения,\n",
        "\n",
        "* Стандартизация изменяет форму распределения данных (приводится к нормальному распределению).\n",
        "\n",
        "**Обычно достаточно нормализовать данные.** Например, в глубоком обучении (Deep Learning) требуется перевести цвета изображений RGB из диапазона 0-255 к диапазону 0-1. А вот стандартизацию стоит применять при использование алгоритмов, которые основываются на измерении расстояний, например, k ближайших соседей или метод опорных векторов (SVM)."
      ],
      "metadata": {
        "id": "iFugWVDvjOUK"
      }
    },
    {
      "cell_type": "markdown",
      "source": [
        "![image.png](data:image/png;base64,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)"
      ],
      "metadata": {
        "id": "wMkmnZCckBGf"
      }
    },
    {
      "cell_type": "code",
      "source": [
        "import pandas as pd\n",
        "import matplotlib.pyplot as plt\n",
        "import tensorflow as tf\n",
        "\n",
        "# Read in the insurance dataset\n",
        "insurance = pd.read_csv(\"https://raw.githubusercontent.com/stedy/Machine-Learning-with-R-datasets/master/insurance.csv\")"
      ],
      "metadata": {
        "id": "zjlW3TVxmUkW"
      },
      "execution_count": null,
      "outputs": []
    },
    {
      "cell_type": "code",
      "source": [
        "# Check out the data\n",
        "insurance.head()"
      ],
      "metadata": {
        "colab": {
          "base_uri": "https://localhost:8080/",
          "height": 206
        },
        "id": "KOTQQAuDmmp-",
        "outputId": "37d50f4e-2db7-4871-a2a0-65cbd3889f7e"
      },
      "execution_count": null,
      "outputs": [
        {
          "output_type": "execute_result",
          "data": {
            "text/plain": [
              "   age     sex     bmi  children smoker     region      charges\n",
              "0   19  female  27.900         0    yes  southwest  16884.92400\n",
              "1   18    male  33.770         1     no  southeast   1725.55230\n",
              "2   28    male  33.000         3     no  southeast   4449.46200\n",
              "3   33    male  22.705         0     no  northwest  21984.47061\n",
              "4   32    male  28.880         0     no  northwest   3866.85520"
            ],
            "text/html": [
              "\n",
              "  <div id=\"df-b6bd145f-a241-417d-a037-98b8493c62c1\" class=\"colab-df-container\">\n",
              "    <div>\n",
              "<style scoped>\n",
              "    .dataframe tbody tr th:only-of-type {\n",
              "        vertical-align: middle;\n",
              "    }\n",
              "\n",
              "    .dataframe tbody tr th {\n",
              "        vertical-align: top;\n",
              "    }\n",
              "\n",
              "    .dataframe thead th {\n",
              "        text-align: right;\n",
              "    }\n",
              "</style>\n",
              "<table border=\"1\" class=\"dataframe\">\n",
              "  <thead>\n",
              "    <tr style=\"text-align: right;\">\n",
              "      <th></th>\n",
              "      <th>age</th>\n",
              "      <th>sex</th>\n",
              "      <th>bmi</th>\n",
              "      <th>children</th>\n",
              "      <th>smoker</th>\n",
              "      <th>region</th>\n",
              "      <th>charges</th>\n",
              "    </tr>\n",
              "  </thead>\n",
              "  <tbody>\n",
              "    <tr>\n",
              "      <th>0</th>\n",
              "      <td>19</td>\n",
              "      <td>female</td>\n",
              "      <td>27.900</td>\n",
              "      <td>0</td>\n",
              "      <td>yes</td>\n",
              "      <td>southwest</td>\n",
              "      <td>16884.92400</td>\n",
              "    </tr>\n",
              "    <tr>\n",
              "      <th>1</th>\n",
              "      <td>18</td>\n",
              "      <td>male</td>\n",
              "      <td>33.770</td>\n",
              "      <td>1</td>\n",
              "      <td>no</td>\n",
              "      <td>southeast</td>\n",
              "      <td>1725.55230</td>\n",
              "    </tr>\n",
              "    <tr>\n",
              "      <th>2</th>\n",
              "      <td>28</td>\n",
              "      <td>male</td>\n",
              "      <td>33.000</td>\n",
              "      <td>3</td>\n",
              "      <td>no</td>\n",
              "      <td>southeast</td>\n",
              "      <td>4449.46200</td>\n",
              "    </tr>\n",
              "    <tr>\n",
              "      <th>3</th>\n",
              "      <td>33</td>\n",
              "      <td>male</td>\n",
              "      <td>22.705</td>\n",
              "      <td>0</td>\n",
              "      <td>no</td>\n",
              "      <td>northwest</td>\n",
              "      <td>21984.47061</td>\n",
              "    </tr>\n",
              "    <tr>\n",
              "      <th>4</th>\n",
              "      <td>32</td>\n",
              "      <td>male</td>\n",
              "      <td>28.880</td>\n",
              "      <td>0</td>\n",
              "      <td>no</td>\n",
              "      <td>northwest</td>\n",
              "      <td>3866.85520</td>\n",
              "    </tr>\n",
              "  </tbody>\n",
              "</table>\n",
              "</div>\n",
              "    <div class=\"colab-df-buttons\">\n",
              "\n",
              "  <div class=\"colab-df-container\">\n",
              "    <button class=\"colab-df-convert\" onclick=\"convertToInteractive('df-b6bd145f-a241-417d-a037-98b8493c62c1')\"\n",
              "            title=\"Convert this dataframe to an interactive table.\"\n",
              "            style=\"display:none;\">\n",
              "\n",
              "  <svg xmlns=\"http://www.w3.org/2000/svg\" height=\"24px\" viewBox=\"0 -960 960 960\">\n",
              "    <path d=\"M120-120v-720h720v720H120Zm60-500h600v-160H180v160Zm220 220h160v-160H400v160Zm0 220h160v-160H400v160ZM180-400h160v-160H180v160Zm440 0h160v-160H620v160ZM180-180h160v-160H180v160Zm440 0h160v-160H620v160Z\"/>\n",
              "  </svg>\n",
              "    </button>\n",
              "\n",
              "  <style>\n",
              "    .colab-df-container {\n",
              "      display:flex;\n",
              "      gap: 12px;\n",
              "    }\n",
              "\n",
              "    .colab-df-convert {\n",
              "      background-color: #E8F0FE;\n",
              "      border: none;\n",
              "      border-radius: 50%;\n",
              "      cursor: pointer;\n",
              "      display: none;\n",
              "      fill: #1967D2;\n",
              "      height: 32px;\n",
              "      padding: 0 0 0 0;\n",
              "      width: 32px;\n",
              "    }\n",
              "\n",
              "    .colab-df-convert:hover {\n",
              "      background-color: #E2EBFA;\n",
              "      box-shadow: 0px 1px 2px rgba(60, 64, 67, 0.3), 0px 1px 3px 1px rgba(60, 64, 67, 0.15);\n",
              "      fill: #174EA6;\n",
              "    }\n",
              "\n",
              "    .colab-df-buttons div {\n",
              "      margin-bottom: 4px;\n",
              "    }\n",
              "\n",
              "    [theme=dark] .colab-df-convert {\n",
              "      background-color: #3B4455;\n",
              "      fill: #D2E3FC;\n",
              "    }\n",
              "\n",
              "    [theme=dark] .colab-df-convert:hover {\n",
              "      background-color: #434B5C;\n",
              "      box-shadow: 0px 1px 3px 1px rgba(0, 0, 0, 0.15);\n",
              "      filter: drop-shadow(0px 1px 2px rgba(0, 0, 0, 0.3));\n",
              "      fill: #FFFFFF;\n",
              "    }\n",
              "  </style>\n",
              "\n",
              "    <script>\n",
              "      const buttonEl =\n",
              "        document.querySelector('#df-b6bd145f-a241-417d-a037-98b8493c62c1 button.colab-df-convert');\n",
              "      buttonEl.style.display =\n",
              "        google.colab.kernel.accessAllowed ? 'block' : 'none';\n",
              "\n",
              "      async function convertToInteractive(key) {\n",
              "        const element = document.querySelector('#df-b6bd145f-a241-417d-a037-98b8493c62c1');\n",
              "        const dataTable =\n",
              "          await google.colab.kernel.invokeFunction('convertToInteractive',\n",
              "                                                    [key], {});\n",
              "        if (!dataTable) return;\n",
              "\n",
              "        const docLinkHtml = 'Like what you see? Visit the ' +\n",
              "          '<a target=\"_blank\" href=https://colab.research.google.com/notebooks/data_table.ipynb>data table notebook</a>'\n",
              "          + ' to learn more about interactive tables.';\n",
              "        element.innerHTML = '';\n",
              "        dataTable['output_type'] = 'display_data';\n",
              "        await google.colab.output.renderOutput(dataTable, element);\n",
              "        const docLink = document.createElement('div');\n",
              "        docLink.innerHTML = docLinkHtml;\n",
              "        element.appendChild(docLink);\n",
              "      }\n",
              "    </script>\n",
              "  </div>\n",
              "\n",
              "\n",
              "<div id=\"df-81a5e208-a801-465a-818a-f4ec06746b63\">\n",
              "  <button class=\"colab-df-quickchart\" onclick=\"quickchart('df-81a5e208-a801-465a-818a-f4ec06746b63')\"\n",
              "            title=\"Suggest charts.\"\n",
              "            style=\"display:none;\">\n",
              "\n",
              "<svg xmlns=\"http://www.w3.org/2000/svg\" height=\"24px\"viewBox=\"0 0 24 24\"\n",
              "     width=\"24px\">\n",
              "    <g>\n",
              "        <path d=\"M19 3H5c-1.1 0-2 .9-2 2v14c0 1.1.9 2 2 2h14c1.1 0 2-.9 2-2V5c0-1.1-.9-2-2-2zM9 17H7v-7h2v7zm4 0h-2V7h2v10zm4 0h-2v-4h2v4z\"/>\n",
              "    </g>\n",
              "</svg>\n",
              "  </button>\n",
              "\n",
              "<style>\n",
              "  .colab-df-quickchart {\n",
              "      --bg-color: #E8F0FE;\n",
              "      --fill-color: #1967D2;\n",
              "      --hover-bg-color: #E2EBFA;\n",
              "      --hover-fill-color: #174EA6;\n",
              "      --disabled-fill-color: #AAA;\n",
              "      --disabled-bg-color: #DDD;\n",
              "  }\n",
              "\n",
              "  [theme=dark] .colab-df-quickchart {\n",
              "      --bg-color: #3B4455;\n",
              "      --fill-color: #D2E3FC;\n",
              "      --hover-bg-color: #434B5C;\n",
              "      --hover-fill-color: #FFFFFF;\n",
              "      --disabled-bg-color: #3B4455;\n",
              "      --disabled-fill-color: #666;\n",
              "  }\n",
              "\n",
              "  .colab-df-quickchart {\n",
              "    background-color: var(--bg-color);\n",
              "    border: none;\n",
              "    border-radius: 50%;\n",
              "    cursor: pointer;\n",
              "    display: none;\n",
              "    fill: var(--fill-color);\n",
              "    height: 32px;\n",
              "    padding: 0;\n",
              "    width: 32px;\n",
              "  }\n",
              "\n",
              "  .colab-df-quickchart:hover {\n",
              "    background-color: var(--hover-bg-color);\n",
              "    box-shadow: 0 1px 2px rgba(60, 64, 67, 0.3), 0 1px 3px 1px rgba(60, 64, 67, 0.15);\n",
              "    fill: var(--button-hover-fill-color);\n",
              "  }\n",
              "\n",
              "  .colab-df-quickchart-complete:disabled,\n",
              "  .colab-df-quickchart-complete:disabled:hover {\n",
              "    background-color: var(--disabled-bg-color);\n",
              "    fill: var(--disabled-fill-color);\n",
              "    box-shadow: none;\n",
              "  }\n",
              "\n",
              "  .colab-df-spinner {\n",
              "    border: 2px solid var(--fill-color);\n",
              "    border-color: transparent;\n",
              "    border-bottom-color: var(--fill-color);\n",
              "    animation:\n",
              "      spin 1s steps(1) infinite;\n",
              "  }\n",
              "\n",
              "  @keyframes spin {\n",
              "    0% {\n",
              "      border-color: transparent;\n",
              "      border-bottom-color: var(--fill-color);\n",
              "      border-left-color: var(--fill-color);\n",
              "    }\n",
              "    20% {\n",
              "      border-color: transparent;\n",
              "      border-left-color: var(--fill-color);\n",
              "      border-top-color: var(--fill-color);\n",
              "    }\n",
              "    30% {\n",
              "      border-color: transparent;\n",
              "      border-left-color: var(--fill-color);\n",
              "      border-top-color: var(--fill-color);\n",
              "      border-right-color: var(--fill-color);\n",
              "    }\n",
              "    40% {\n",
              "      border-color: transparent;\n",
              "      border-right-color: var(--fill-color);\n",
              "      border-top-color: var(--fill-color);\n",
              "    }\n",
              "    60% {\n",
              "      border-color: transparent;\n",
              "      border-right-color: var(--fill-color);\n",
              "    }\n",
              "    80% {\n",
              "      border-color: transparent;\n",
              "      border-right-color: var(--fill-color);\n",
              "      border-bottom-color: var(--fill-color);\n",
              "    }\n",
              "    90% {\n",
              "      border-color: transparent;\n",
              "      border-bottom-color: var(--fill-color);\n",
              "    }\n",
              "  }\n",
              "</style>\n",
              "\n",
              "  <script>\n",
              "    async function quickchart(key) {\n",
              "      const quickchartButtonEl =\n",
              "        document.querySelector('#' + key + ' button');\n",
              "      quickchartButtonEl.disabled = true;  // To prevent multiple clicks.\n",
              "      quickchartButtonEl.classList.add('colab-df-spinner');\n",
              "      try {\n",
              "        const charts = await google.colab.kernel.invokeFunction(\n",
              "            'suggestCharts', [key], {});\n",
              "      } catch (error) {\n",
              "        console.error('Error during call to suggestCharts:', error);\n",
              "      }\n",
              "      quickchartButtonEl.classList.remove('colab-df-spinner');\n",
              "      quickchartButtonEl.classList.add('colab-df-quickchart-complete');\n",
              "    }\n",
              "    (() => {\n",
              "      let quickchartButtonEl =\n",
              "        document.querySelector('#df-81a5e208-a801-465a-818a-f4ec06746b63 button');\n",
              "      quickchartButtonEl.style.display =\n",
              "        google.colab.kernel.accessAllowed ? 'block' : 'none';\n",
              "    })();\n",
              "  </script>\n",
              "</div>\n",
              "    </div>\n",
              "  </div>\n"
            ]
          },
          "metadata": {},
          "execution_count": 16
        }
      ]
    },
    {
      "cell_type": "markdown",
      "source": [
        "We need to transform the non-numerical columns into numbers and this time we'll also be normalizing the numerical columns with different ranges (to make sure they're all between 0 and 1)\n",
        "\n",
        "To do this, we're going to use a few classes from Scikit-Learn:\n",
        "\n",
        "* `make_column_transformer` - build a multi-step data preprocessing function for the folllowing transformations:\n",
        "  * `MinMaxScaler` - make sure all numerical columns are normalized (between 0 and 1).\n",
        "  * `OneHotEncoder` - one hot encode the non-numerical columns."
      ],
      "metadata": {
        "id": "Mb7FV3kMm7aZ"
      }
    },
    {
      "cell_type": "code",
      "source": [
        "from sklearn.compose import make_column_transformer\n",
        "from sklearn.preprocessing import MinMaxScaler, OneHotEncoder\n",
        "\n",
        "# Create column transformer (this will help us normalize/preprocess our data)\n",
        "ct = make_column_transformer(\n",
        "    (MinMaxScaler(), [\"age\", \"bmi\", \"children\"]), # get all values between 0 and 1\n",
        "    (OneHotEncoder(handle_unknown=\"ignore\"), [\"sex\", \"smoker\", \"region\"])\n",
        ")\n",
        "\n",
        "# Create X & y\n",
        "X = insurance.drop(\"charges\", axis=1)\n",
        "y = insurance[\"charges\"]\n",
        "\n",
        "# Build our train and test sets (use random state to ensure same split as before)\n",
        "X_train, X_test, y_train, y_test = train_test_split(X, y, test_size=0.2, random_state=42)\n",
        "\n",
        "# Fit column transformer on the training data only (doing so on test data would result in data leakage)\n",
        "ct.fit(X_train)\n",
        "\n",
        "# Transform training and test data with normalization (MinMaxScalar) and one hot encoding (OneHotEncoder)\n",
        "X_train_normal = ct.transform(X_train)\n",
        "X_test_normal = ct.transform(X_test)"
      ],
      "metadata": {
        "id": "_MMkc_pGnZK6"
      },
      "execution_count": null,
      "outputs": []
    },
    {
      "cell_type": "code",
      "source": [
        "# Non-normalized and non-one-hot encoded data example\n",
        "X_train.loc[0]"
      ],
      "metadata": {
        "colab": {
          "base_uri": "https://localhost:8080/"
        },
        "id": "knNXfYerpgL6",
        "outputId": "1326e048-ebb4-4d68-db4e-e7a66111ec4c"
      },
      "execution_count": null,
      "outputs": [
        {
          "output_type": "execute_result",
          "data": {
            "text/plain": [
              "age                19\n",
              "sex            female\n",
              "bmi              27.9\n",
              "children            0\n",
              "smoker            yes\n",
              "region      southwest\n",
              "Name: 0, dtype: object"
            ]
          },
          "metadata": {},
          "execution_count": 18
        }
      ]
    },
    {
      "cell_type": "code",
      "source": [
        "# Normalized and one-hot encoded example\n",
        "X_train_normal[0]"
      ],
      "metadata": {
        "colab": {
          "base_uri": "https://localhost:8080/"
        },
        "id": "VI3b5eXdplZd",
        "outputId": "aaac4298-1591-4f7b-8194-ccfc1d20931d"
      },
      "execution_count": null,
      "outputs": [
        {
          "output_type": "execute_result",
          "data": {
            "text/plain": [
              "array([0.60869565, 0.10734463, 0.4       , 1.        , 0.        ,\n",
              "       1.        , 0.        , 0.        , 1.        , 0.        ,\n",
              "       0.        ])"
            ]
          },
          "metadata": {},
          "execution_count": 19
        }
      ]
    },
    {
      "cell_type": "markdown",
      "source": [
        "How about the shapes?"
      ],
      "metadata": {
        "id": "B5KUcpHqppVq"
      }
    },
    {
      "cell_type": "code",
      "source": [
        "# Notice the normalized/one-hot encoded shape is larger because of the extra columns\n",
        "X_train_normal.shape, X_train.shape"
      ],
      "metadata": {
        "colab": {
          "base_uri": "https://localhost:8080/"
        },
        "id": "Tt_m34-apxi_",
        "outputId": "ab4a6df7-cb07-4545-fe36-bb6232958353"
      },
      "execution_count": null,
      "outputs": [
        {
          "output_type": "execute_result",
          "data": {
            "text/plain": [
              "((1070, 11), (1070, 6))"
            ]
          },
          "metadata": {},
          "execution_count": 20
        }
      ]
    },
    {
      "cell_type": "markdown",
      "source": [
        "Our data is normalized and numerical, let's model it.\n",
        "\n",
        "We'll use the same model as `insurance_model_2`"
      ],
      "metadata": {
        "id": "UQOir_dRp5z-"
      }
    },
    {
      "cell_type": "code",
      "source": [
        "# Set random seed\n",
        "tf.random.set_seed(42)\n",
        "\n",
        "# Build the model (3 layers, 100, 10, 1 units)\n",
        "insurance_model_3 = tf.keras.Sequential([\n",
        "  tf.keras.layers.Dense(100),\n",
        "  tf.keras.layers.Dense(10),\n",
        "  tf.keras.layers.Dense(1)\n",
        "])\n",
        "\n",
        "# Compile the model\n",
        "insurance_model_3.compile(loss=tf.keras.losses.mae,\n",
        "                          optimizer=tf.keras.optimizers.Adam(),\n",
        "                          metrics=['mae'])\n",
        "\n",
        "# Fit the model for 200 epochs (same as insurance_model_2)\n",
        "insurance_model_3.fit(X_train_normal, y_train, epochs=200, verbose=0)"
      ],
      "metadata": {
        "colab": {
          "base_uri": "https://localhost:8080/"
        },
        "id": "UAUncMhZp_gy",
        "outputId": "86c3916f-5c93-40d4-eebf-469b6d850e6d"
      },
      "execution_count": null,
      "outputs": [
        {
          "output_type": "execute_result",
          "data": {
            "text/plain": [
              "<keras.src.callbacks.History at 0x792fe62c5fc0>"
            ]
          },
          "metadata": {},
          "execution_count": 21
        }
      ]
    },
    {
      "cell_type": "code",
      "source": [
        "#Evaulate 3rd model\n",
        "insurance_model_3_loss, insurance_model_3_mae = insurance_model_3.evaluate(X_test_normal, y_test)"
      ],
      "metadata": {
        "colab": {
          "base_uri": "https://localhost:8080/"
        },
        "id": "ea87ZwU9qM9O",
        "outputId": "1e16dbd6-c405-41fc-949d-7c021528a9af"
      },
      "execution_count": null,
      "outputs": [
        {
          "output_type": "stream",
          "name": "stdout",
          "text": [
            "9/9 [==============================] - 0s 5ms/step - loss: 3175.0605 - mae: 3175.0605\n"
          ]
        }
      ]
    },
    {
      "cell_type": "code",
      "source": [
        "# Compare modelling results from non-normalized data and normalized data\n",
        "insurance_model_2_mae, insurance_model_3_mae"
      ],
      "metadata": {
        "colab": {
          "base_uri": "https://localhost:8080/"
        },
        "id": "f_acYvNHqT4c",
        "outputId": "baa704fb-bf13-4519-f33e-83409f94ee9c"
      },
      "execution_count": null,
      "outputs": [
        {
          "output_type": "execute_result",
          "data": {
            "text/plain": [
              "(3493.50439453125, 3175.060546875)"
            ]
          },
          "metadata": {},
          "execution_count": 23
        }
      ]
    },
    {
      "cell_type": "markdown",
      "source": [
        "From this we can see normalizing the data results in 10% less error using the same model than not normalizing the data."
      ],
      "metadata": {
        "id": "ZW30HK0RqZqG"
      }
    }
  ]
}