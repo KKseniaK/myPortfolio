{
  "nbformat": 4,
  "nbformat_minor": 0,
  "metadata": {
    "colab": {
      "provenance": [],
      "authorship_tag": "ABX9TyN82nw3mS8W4Dqpv+29OV4P",
      "include_colab_link": true
    },
    "kernelspec": {
      "name": "python3",
      "display_name": "Python 3"
    },
    "language_info": {
      "name": "python"
    }
  },
  "cells": [
    {
      "cell_type": "markdown",
      "metadata": {
        "id": "view-in-github",
        "colab_type": "text"
      },
      "source": [
        "<a href=\"https://colab.research.google.com/github/KKseniaK/myPortfolio/blob/main/Sentiment_Text_Analysis.ipynb\" target=\"_parent\"><img src=\"https://colab.research.google.com/assets/colab-badge.svg\" alt=\"Open In Colab\"/></a>"
      ]
    },
    {
      "cell_type": "code",
      "execution_count": null,
      "metadata": {
        "colab": {
          "base_uri": "https://localhost:8080/"
        },
        "id": "DU_e1JD9UHso",
        "outputId": "82274c05-808f-45be-abc5-40c2c2c90cb3"
      },
      "outputs": [
        {
          "output_type": "stream",
          "name": "stderr",
          "text": [
            "[nltk_data] Downloading package punkt to /root/nltk_data...\n",
            "[nltk_data]   Unzipping tokenizers/punkt.zip.\n"
          ]
        },
        {
          "output_type": "execute_result",
          "data": {
            "text/plain": [
              "True"
            ]
          },
          "metadata": {},
          "execution_count": 6
        }
      ],
      "source": [
        "from textblob import TextBlob\n",
        "import newspaper\n",
        "from newspaper import Article\n",
        "import nltk\n",
        "nltk.download('punkt')"
      ]
    },
    {
      "cell_type": "code",
      "source": [
        "#url = 'https://en.wikipedia.org/wiki/Harry_Potter'\n",
        "url = 'https://www.delawareonline.com/story/news/crime/2023/10/29/shooting-kills-1-teen-injures-2-in-laurel-schools-closed-monday/71376847007/'\n",
        "article = Article(url)\n",
        "article.download()\n",
        "article.parse()\n",
        "article.nlp()"
      ],
      "metadata": {
        "id": "9-K_xcULUtTY"
      },
      "execution_count": null,
      "outputs": []
    },
    {
      "cell_type": "code",
      "source": [
        "text = article.text\n",
        "text"
      ],
      "metadata": {
        "colab": {
          "base_uri": "https://localhost:8080/",
          "height": 156
        },
        "id": "-9t0OpgGWiA3",
        "outputId": "14c0f58b-b459-46f2-e355-1cb463e80567"
      },
      "execution_count": null,
      "outputs": [
        {
          "output_type": "execute_result",
          "data": {
            "text/plain": [
              "'One teenager is dead and the conditions of two others are unknown after a shooting Sunday afternoon in Laurel.\\n\\nArea schools are closed tomorrow because of the shooting.\\n\\nAround 3:20 p.m., the Laurel Police Department said in a Facebook post officers were on the scene of \"a shooting incident with multiple victims.\" West 7th Street, West 8th Street and Center Street were all shut down, the post said, with multiple suspects at large.\\n\\nA \"final update\" to the post at 5:10 p.m. said West 7th Street, between West and Center streets, remained closed and was expected to remain closed for several hours. Three male teenagers were shot, the post said, with the investigation being turned over to the Delaware State Police Homicide Unit.\\n\\nAround 6:30 p.m. Sunday, State police spokesperson Amina Ali confirmed one shooting victim was dead and no arrests had been made.\\n\\nBackground:3 victims, 1 dead, confirmed in shooting under investigation in Laurel\\n\\n\"This is believed to be an isolated incident, and there is no suspected threat to the public,\" Ali said.\\n\\nThe incident is the third homicide in Laurel this year. Twenty-six-year-old Taylor German was shot and killed Sept. 10 and 18-year-old Corey Mumford was shot and killed April 14.\\n\\nMore:Laurel woman killed when a gunman opened fire into a car identified by police\\n\\nAnyone with information should contact Delaware State Police Troop 4 at 302-856-5850 and follow the phone prompts for the Homicide Unit. Information can be submitted anonymously via Delaware Crimestoppers at 1-800-847-3333. Tips submitted to Crimestoppers that lead to an arrest are potentially eligible for a cash reward.\\n\\nThe Laurel School District announced around 6:30 p.m. schools would not open Monday.\\n\\n\"Earlier today, a tragic shooting incident occurred in our town, and as of this moment, there are still individuals at large whom the authorities are actively pursuing,\" Superintendent Shawn Larrimore wrote in a Facebook post. \"The safety and well-being of our students, staff, and community members remain our top priority.\"\\n\\nResources will be made available \"in the days ahead\" to help students and staff cope with events, Larrimore said.\\n\\nMore:Third person arrested almost 2 months after fatal shooting of Laurel High senior: police\\n\\nKeith Demko and Esteban Parra contributed to this story. Shannon Marvel McNaught reports on Sussex County and beyond. Reach her at smcnaught@gannett.com or on Twitter @MarvelMcNaught.'"
            ],
            "application/vnd.google.colaboratory.intrinsic+json": {
              "type": "string"
            }
          },
          "metadata": {},
          "execution_count": 41
        }
      ]
    },
    {
      "cell_type": "code",
      "source": [
        "text = article.summary\n",
        "text"
      ],
      "metadata": {
        "colab": {
          "base_uri": "https://localhost:8080/",
          "height": 104
        },
        "id": "CAzrdvQOXtvc",
        "outputId": "da071586-86fe-4490-e59d-3986556771fe"
      },
      "execution_count": null,
      "outputs": [
        {
          "output_type": "execute_result",
          "data": {
            "text/plain": [
              "'One teenager is dead and the conditions of two others are unknown after a shooting Sunday afternoon in Laurel.\\nAround 3:20 p.m., the Laurel Police Department said in a Facebook post officers were on the scene of \"a shooting incident with multiple victims.\"\\nWest 7th Street, West 8th Street and Center Street were all shut down, the post said, with multiple suspects at large.\\nTwenty-six-year-old Taylor German was shot and killed Sept. 10 and 18-year-old Corey Mumford was shot and killed April 14.\\nMore:Third person arrested almost 2 months after fatal shooting of Laurel High senior: policeKeith Demko and Esteban Parra contributed to this story.'"
            ],
            "application/vnd.google.colaboratory.intrinsic+json": {
              "type": "string"
            }
          },
          "metadata": {},
          "execution_count": 42
        }
      ]
    },
    {
      "cell_type": "code",
      "source": [
        "blob = TextBlob(text)\n",
        "sentiment = blob.sentiment.polarity\n",
        "sentiment"
      ],
      "metadata": {
        "colab": {
          "base_uri": "https://localhost:8080/"
        },
        "id": "rhxvneD_YcPZ",
        "outputId": "3f478378-d620-4dd2-ca28-0053453c5f68"
      },
      "execution_count": null,
      "outputs": [
        {
          "output_type": "execute_result",
          "data": {
            "text/plain": [
              "-0.052842712842712844"
            ]
          },
          "metadata": {},
          "execution_count": 43
        }
      ]
    },
    {
      "cell_type": "code",
      "source": [
        "good_text = \"I had the most wonderful day at the beach today. The sun was shining brightly, and the waves were perfect for surfing. I spent quality time with my friends, and we shared a delicious picnic under the clear blue sky. Everything felt so peaceful and full of joy, making it a day to remember.\""
      ],
      "metadata": {
        "id": "Uy9vM5iNm58m"
      },
      "execution_count": null,
      "outputs": []
    },
    {
      "cell_type": "code",
      "source": [
        "blob = TextBlob(good_text)\n",
        "sentiment = blob.sentiment.polarity\n",
        "sentiment"
      ],
      "metadata": {
        "colab": {
          "base_uri": "https://localhost:8080/"
        },
        "id": "9CQ4ZZz9nQWk",
        "outputId": "0f55b22d-bec2-40d9-85a7-e37eb3559f20"
      },
      "execution_count": null,
      "outputs": [
        {
          "output_type": "execute_result",
          "data": {
            "text/plain": [
              "0.5090909090909089"
            ]
          },
          "metadata": {},
          "execution_count": 46
        }
      ]
    },
    {
      "cell_type": "code",
      "source": [
        "sad_text = \"The heavy rain outside mirrors the storm inside my heart. As I sit alone in this empty room, memories of happier times haunt me. The ache of losing my dearest friend, who was taken from us too soon, is a pain that seems never-ending. The silence in the house is deafening, a cruel reminder of their absence. Each day without them feels like an eternity, and I long for their warmth and laughter.\""
      ],
      "metadata": {
        "id": "4htrF63hnuDD"
      },
      "execution_count": null,
      "outputs": []
    },
    {
      "cell_type": "code",
      "source": [
        "blob = TextBlob(sad_text)\n",
        "sentiment = blob.sentiment.polarity\n",
        "sentiment"
      ],
      "metadata": {
        "colab": {
          "base_uri": "https://localhost:8080/"
        },
        "id": "auZrvDApn4qZ",
        "outputId": "4fa5954b-8e3e-4c61-8484-50db531d4e24"
      },
      "execution_count": null,
      "outputs": [
        {
          "output_type": "execute_result",
          "data": {
            "text/plain": [
              "-0.22708333333333333"
            ]
          },
          "metadata": {},
          "execution_count": 53
        }
      ]
    }
  ]
}